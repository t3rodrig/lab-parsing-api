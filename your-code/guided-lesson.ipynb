{
 "cells": [
  {
   "cell_type": "markdown",
   "metadata": {},
   "source": [
    "# Parsing APIs Example"
   ]
  },
  {
   "cell_type": "markdown",
   "metadata": {},
   "source": [
    "## Intro\n",
    "\n",
    "Now we will take a look on a real data. When you parse data from web you will often meet API based web-pages. \n",
    "\n",
    "For example [zalando.fr](https://www.zalando.fr/accueil-homme/) is API based web-page. \n",
    "\n",
    "In this guided lab you will learn how to obtain the links from webpages and extract the data. Read through this doc, execute the cells in order and make sure you understand the explanations. \n",
    "\n",
    "*Note: This guided lab uses Google Chrome. Other browsers like Safari and Firefox have similar tools for developers but they work differently. To save your time in following this lab, it is strongly recommended that you install and use Google Chrome.*"
   ]
  },
  {
   "cell_type": "markdown",
   "metadata": {},
   "source": [
    "## Obtaining the link\n",
    "\n",
    "Zalando is discount e-store where you can buy clothes and accesories with discount. When we go to the web-page, we can choose different sections. First the general process will be shown using [Children section](https://www.zalando.fr/accueil-enfant/) as example.\n",
    "\n",
    "Here we will parse data about promotions only. Therefore, final output will be the DataFrame with all the goods under discount.\n",
    "\n",
    "[![Image from Gyazo](https://i.gyazo.com/fa4874d8e81c7570273bbfb853d66308.png)](https://gyazo.com/fa4874d8e81c7570273bbfb853d66308)\n",
    "\n",
    "\n",
    "We go to Promos page. Right click of mouse shows us a list of actions possible, from which we select Inspect.\n",
    "\n",
    "<img src='https://i.gyazo.com/bccbd11d69c9040dc98758d443e32052.png' width=\"400\">\n",
    "\n",
    "\n",
    "You will see the menu dropdown on the right side or on the bottom of the window. There you should click on Network:\n",
    "\n",
    "\n",
    "[![Image from Gyazo](https://i.gyazo.com/f7e0db81cbfee67694183d1a7640bf81.png)](https://gyazo.com/f7e0db81cbfee67694183d1a7640bf81)"
   ]
  },
  {
   "cell_type": "markdown",
   "metadata": {},
   "source": [
    "Right after the developer part will change showing the files behind the page. In order to obtain only useful files we select the following settings:\n",
    "1. Preserve Log\n",
    "2. Select XHR files.\n",
    "\n",
    "[![Image from Gyazo](https://i.gyazo.com/9a899d4441d9d93e795f79747f1e47d5.png)](https://gyazo.com/9a899d4441d9d93e795f79747f1e47d5)\n",
    "\n",
    "In order to obtain some files we need to scrool down and go forward to second page. \n",
    "\n",
    "[![Image from Gyazo](https://i.gyazo.com/0956eb3d5125075a236c9a439c7749c7.png)](https://gyazo.com/0956eb3d5125075a236c9a439c7749c7)\n",
    "\n",
    "In the Network panel you can see the following files being uploaded. All the data on the web-page is uploaded from the json file, which is one of the following. It is important to understand which file contains what kind of information. \n",
    "\n",
    "<a href=\"https://gyazo.com/cf97a655869f0b22df0ada1cb2a41c3c\"><img src=\"https://i.gyazo.com/cf97a655869f0b22df0ada1cb2a41c3c.png\" alt=\"Image from Gyazo\" width=\"724.8\"/></a>\n",
    "\n",
    "When you find what kind of information you need for the data to be uploaded you just test it. Here we need the article... file:\n",
    "\n",
    "<a href=\"https://gyazo.com/78b35bf492994b3f35c0564a21da202a\"><img src=\"https://i.gyazo.com/78b35bf492994b3f35c0564a21da202a.png\" alt=\"Image from Gyazo\" width=\"727.2\"/></a>\n",
    "\n",
    "When we test the link in Chrome inkognito mode we obtain the proper json file:\n",
    "\n",
    "\n",
    "<a href=\"https://gyazo.com/b60453fa98454fa29771c731a5174443\"><img src=\"https://i.gyazo.com/b60453fa98454fa29771c731a5174443.png\" alt=\"Image from Gyazo\" width=\"1530.4\"/></a>"
   ]
  },
  {
   "cell_type": "markdown",
   "metadata": {},
   "source": [
    "In order to change the objects in the json file (kind of pagination), you need to change the offset (the number of the first element on the page). in fact, if you take a look on the link, it is easy to unerstand the structure of the link.\n",
    "\n",
    "# Reading the data\n",
    "\n",
    "Now the party rocks! When we know how can we obtain the data, it is not a problem to obtain the whole database with all the data from the web-page.\n",
    "In this lab you will collect your database of Zalando products. You select which goods you want to track. You can define as many filters to your data as you want. Just make sure that the data represents the filters.\n",
    "\n",
    "\n"
   ]
  },
  {
   "cell_type": "code",
   "execution_count": 1,
   "metadata": {},
   "outputs": [],
   "source": [
    "import requests\n",
    "import pandas as pd"
   ]
  },
  {
   "cell_type": "code",
   "execution_count": 2,
   "metadata": {},
   "outputs": [],
   "source": [
    "# Paste the url you obtained for your data\n",
    "url='https://www.zalando.fr/api/catalog/articles?categories=promo-enfant&limit=84&offset=84&sort=popularity'\n",
    "\n",
    "headers = {\n",
    "    'user-agent': 'Mozilla/5.0 (X11; Linux x86_64) AppleWebKit/537.36 (KHTML, like Gecko) Chrome/83.0.4103.116 Safari/537.36'\n",
    "}"
   ]
  },
  {
   "cell_type": "markdown",
   "metadata": {},
   "source": [
    "#### Collect first 84 object of the of the data (1st page)\n",
    "\n",
    "Your output should be a Pandas DataFrame of goods. Each row should contain only text or numbers, having *family_articles, flags, media* and *sizes* remaining lists (they are exceptions)."
   ]
  },
  {
   "cell_type": "code",
   "execution_count": 3,
   "metadata": {},
   "outputs": [],
   "source": [
    "# Your code"
   ]
  },
  {
   "cell_type": "code",
   "execution_count": 4,
   "metadata": {},
   "outputs": [
    {
     "name": "stdout",
     "output_type": "stream",
     "text": [
      "b'{\"total_count\":25742,\"pagination\":{\"page_count\":307,\"current_page\":2,\"per_page\":84},\"sort\":\"popularity\",\"articles\":[{\"sku\":\"PU143N01A-G11\",\"name\":\"PUMA X ZALANDO ORIGINALS - Sac \\xc3\\xa0 dos - pomegranate\",\"price\":{\"original\":\"28,95\\xc2\\xa0\\xe2\\x82\\xac\",\"promotional\":\"11,65\\xc2\\xa0\\xe2\\x82\\xac\",\"has_different_prices\":false,\"has_different_original_prices\":false,\"has_different_promotional_prices\":false,\"has_discount_on_selected_sizes_only\":false},\"sizes\":[\"One Size\"],\"url_key\":\"puma-puma-x-zalando-originals-sac-a-dos-pu143n01a-g11\",'\n"
     ]
    }
   ],
   "source": [
    "response = requests.get(url, headers=headers)\n",
    "print(response.content[:500])"
   ]
  },
  {
   "cell_type": "code",
   "execution_count": 5,
   "metadata": {},
   "outputs": [],
   "source": [
    "results = response.json()"
   ]
  },
  {
   "cell_type": "code",
   "execution_count": 6,
   "metadata": {},
   "outputs": [],
   "source": [
    "flattened_data = pd.json_normalize(results)"
   ]
  },
  {
   "cell_type": "code",
   "execution_count": 7,
   "metadata": {},
   "outputs": [
    {
     "data": {
      "text/html": [
       "<div>\n",
       "<style scoped>\n",
       "    .dataframe tbody tr th:only-of-type {\n",
       "        vertical-align: middle;\n",
       "    }\n",
       "\n",
       "    .dataframe tbody tr th {\n",
       "        vertical-align: top;\n",
       "    }\n",
       "\n",
       "    .dataframe thead th {\n",
       "        text-align: right;\n",
       "    }\n",
       "</style>\n",
       "<table border=\"1\" class=\"dataframe\">\n",
       "  <thead>\n",
       "    <tr style=\"text-align: right;\">\n",
       "      <th></th>\n",
       "      <th>sku</th>\n",
       "      <th>name</th>\n",
       "      <th>sizes</th>\n",
       "      <th>url_key</th>\n",
       "      <th>media</th>\n",
       "      <th>brand_name</th>\n",
       "      <th>is_premium</th>\n",
       "      <th>family_articles</th>\n",
       "      <th>flags</th>\n",
       "      <th>product_group</th>\n",
       "      <th>delivery_promises</th>\n",
       "      <th>price.original</th>\n",
       "      <th>price.promotional</th>\n",
       "      <th>price.has_different_prices</th>\n",
       "      <th>price.has_different_original_prices</th>\n",
       "      <th>price.has_different_promotional_prices</th>\n",
       "      <th>price.has_discount_on_selected_sizes_only</th>\n",
       "    </tr>\n",
       "  </thead>\n",
       "  <tbody>\n",
       "    <tr>\n",
       "      <th>0</th>\n",
       "      <td>PU143N01A-G11</td>\n",
       "      <td>PUMA X ZALANDO ORIGINALS - Sac à dos - pomegra...</td>\n",
       "      <td>[One Size]</td>\n",
       "      <td>puma-puma-x-zalando-originals-sac-a-dos-pu143n...</td>\n",
       "      <td>[{'path': 'PU/14/3N/01/AG/11/PU143N01A-G11@8.j...</td>\n",
       "      <td>Puma</td>\n",
       "      <td>False</td>\n",
       "      <td>[{'sku': 'PU143N01A-G11', 'url_key': 'puma-pum...</td>\n",
       "      <td>[{'key': 'discountRate', 'value': '-60%', 'tra...</td>\n",
       "      <td>accessoires</td>\n",
       "      <td>[]</td>\n",
       "      <td>28,95 €</td>\n",
       "      <td>11,65 €</td>\n",
       "      <td>False</td>\n",
       "      <td>False</td>\n",
       "      <td>False</td>\n",
       "      <td>False</td>\n",
       "    </tr>\n",
       "    <tr>\n",
       "      <th>1</th>\n",
       "      <td>WO813D00O-J11</td>\n",
       "      <td>SANDRA - Baskets basses - pink sand</td>\n",
       "      <td>[27, 28, 29, 30, 31, 32, 33, 34, 35]</td>\n",
       "      <td>woden-sandra-pearl-baskets-basses-pink-sand-wo...</td>\n",
       "      <td>[{'path': 'WO/81/3D/00/OJ/11/WO813D00O-J11@10....</td>\n",
       "      <td>Woden</td>\n",
       "      <td>False</td>\n",
       "      <td>[{'sku': 'WO813D00O-J11', 'url_key': 'woden-sa...</td>\n",
       "      <td>[{'key': 'discountRate', 'value': 'Jusqu’à -50...</td>\n",
       "      <td>shoe</td>\n",
       "      <td>[]</td>\n",
       "      <td>69,95 €</td>\n",
       "      <td>34,95 €</td>\n",
       "      <td>True</td>\n",
       "      <td>False</td>\n",
       "      <td>True</td>\n",
       "      <td>False</td>\n",
       "    </tr>\n",
       "    <tr>\n",
       "      <th>2</th>\n",
       "      <td>PU116D091-A12</td>\n",
       "      <td>Chaussures premiers pas - puma white-rapture rose</td>\n",
       "      <td>[23, 24, 25, 26, 27]</td>\n",
       "      <td>puma-baskets-basses-puma-white-rapture-rose-pu...</td>\n",
       "      <td>[{'path': 'PU/11/6D/09/1A/12/PU116D091-A12@2.1...</td>\n",
       "      <td>Puma</td>\n",
       "      <td>False</td>\n",
       "      <td>[{'sku': 'PU116D091-A12', 'url_key': 'puma-bas...</td>\n",
       "      <td>[{'key': 'discountRate', 'value': '-30%', 'tra...</td>\n",
       "      <td>shoe</td>\n",
       "      <td>[]</td>\n",
       "      <td>40,00 €</td>\n",
       "      <td>27,95 €</td>\n",
       "      <td>False</td>\n",
       "      <td>False</td>\n",
       "      <td>False</td>\n",
       "      <td>False</td>\n",
       "    </tr>\n",
       "    <tr>\n",
       "      <th>3</th>\n",
       "      <td>JOC43K01X-G11</td>\n",
       "      <td>JUMPMAN CLASSIC TEE SHORT SET - Short de sport...</td>\n",
       "      <td>[2-3a, 3-4a, 4-5a, 5-6a, 6-7a]</td>\n",
       "      <td>jordan-jumpman-classic-tee-short-set-t-shirt-i...</td>\n",
       "      <td>[{'path': 'JO/C4/3K/01/XG/11/JOC43K01X-G11@8.j...</td>\n",
       "      <td>Jordan</td>\n",
       "      <td>False</td>\n",
       "      <td>[{'sku': 'JOC43K01X-G11', 'url_key': 'jordan-j...</td>\n",
       "      <td>[{'key': 'discountRate', 'value': '-20%', 'tra...</td>\n",
       "      <td>clothing</td>\n",
       "      <td>[]</td>\n",
       "      <td>41,95 €</td>\n",
       "      <td>33,75 €</td>\n",
       "      <td>False</td>\n",
       "      <td>False</td>\n",
       "      <td>False</td>\n",
       "      <td>False</td>\n",
       "    </tr>\n",
       "    <tr>\n",
       "      <th>4</th>\n",
       "      <td>WO813D00K-E11</td>\n",
       "      <td>NORA METALLIC HEEL - Baskets basses - super lemon</td>\n",
       "      <td>[25, 28, 29, 30, 31]</td>\n",
       "      <td>woden-nora-metallic-heel-baskets-basses-super-...</td>\n",
       "      <td>[{'path': 'WO/81/3D/00/KE/11/WO813D00K-E11@10....</td>\n",
       "      <td>Woden</td>\n",
       "      <td>False</td>\n",
       "      <td>[{'sku': 'WO813D00K-E11', 'url_key': 'woden-no...</td>\n",
       "      <td>[{'key': 'discountRate', 'value': '-60%', 'tra...</td>\n",
       "      <td>shoe</td>\n",
       "      <td>[]</td>\n",
       "      <td>64,95 €</td>\n",
       "      <td>25,95 €</td>\n",
       "      <td>False</td>\n",
       "      <td>False</td>\n",
       "      <td>False</td>\n",
       "      <td>False</td>\n",
       "    </tr>\n",
       "  </tbody>\n",
       "</table>\n",
       "</div>"
      ],
      "text/plain": [
       "             sku                                               name  \\\n",
       "0  PU143N01A-G11  PUMA X ZALANDO ORIGINALS - Sac à dos - pomegra...   \n",
       "1  WO813D00O-J11                SANDRA - Baskets basses - pink sand   \n",
       "2  PU116D091-A12  Chaussures premiers pas - puma white-rapture rose   \n",
       "3  JOC43K01X-G11  JUMPMAN CLASSIC TEE SHORT SET - Short de sport...   \n",
       "4  WO813D00K-E11  NORA METALLIC HEEL - Baskets basses - super lemon   \n",
       "\n",
       "                                  sizes  \\\n",
       "0                            [One Size]   \n",
       "1  [27, 28, 29, 30, 31, 32, 33, 34, 35]   \n",
       "2                  [23, 24, 25, 26, 27]   \n",
       "3        [2-3a, 3-4a, 4-5a, 5-6a, 6-7a]   \n",
       "4                  [25, 28, 29, 30, 31]   \n",
       "\n",
       "                                             url_key  \\\n",
       "0  puma-puma-x-zalando-originals-sac-a-dos-pu143n...   \n",
       "1  woden-sandra-pearl-baskets-basses-pink-sand-wo...   \n",
       "2  puma-baskets-basses-puma-white-rapture-rose-pu...   \n",
       "3  jordan-jumpman-classic-tee-short-set-t-shirt-i...   \n",
       "4  woden-nora-metallic-heel-baskets-basses-super-...   \n",
       "\n",
       "                                               media brand_name  is_premium  \\\n",
       "0  [{'path': 'PU/14/3N/01/AG/11/PU143N01A-G11@8.j...       Puma       False   \n",
       "1  [{'path': 'WO/81/3D/00/OJ/11/WO813D00O-J11@10....      Woden       False   \n",
       "2  [{'path': 'PU/11/6D/09/1A/12/PU116D091-A12@2.1...       Puma       False   \n",
       "3  [{'path': 'JO/C4/3K/01/XG/11/JOC43K01X-G11@8.j...     Jordan       False   \n",
       "4  [{'path': 'WO/81/3D/00/KE/11/WO813D00K-E11@10....      Woden       False   \n",
       "\n",
       "                                     family_articles  \\\n",
       "0  [{'sku': 'PU143N01A-G11', 'url_key': 'puma-pum...   \n",
       "1  [{'sku': 'WO813D00O-J11', 'url_key': 'woden-sa...   \n",
       "2  [{'sku': 'PU116D091-A12', 'url_key': 'puma-bas...   \n",
       "3  [{'sku': 'JOC43K01X-G11', 'url_key': 'jordan-j...   \n",
       "4  [{'sku': 'WO813D00K-E11', 'url_key': 'woden-no...   \n",
       "\n",
       "                                               flags product_group  \\\n",
       "0  [{'key': 'discountRate', 'value': '-60%', 'tra...   accessoires   \n",
       "1  [{'key': 'discountRate', 'value': 'Jusqu’à -50...          shoe   \n",
       "2  [{'key': 'discountRate', 'value': '-30%', 'tra...          shoe   \n",
       "3  [{'key': 'discountRate', 'value': '-20%', 'tra...      clothing   \n",
       "4  [{'key': 'discountRate', 'value': '-60%', 'tra...          shoe   \n",
       "\n",
       "  delivery_promises price.original price.promotional  \\\n",
       "0                []        28,95 €           11,65 €   \n",
       "1                []        69,95 €           34,95 €   \n",
       "2                []        40,00 €           27,95 €   \n",
       "3                []        41,95 €           33,75 €   \n",
       "4                []        64,95 €           25,95 €   \n",
       "\n",
       "   price.has_different_prices  price.has_different_original_prices  \\\n",
       "0                       False                                False   \n",
       "1                        True                                False   \n",
       "2                       False                                False   \n",
       "3                       False                                False   \n",
       "4                       False                                False   \n",
       "\n",
       "   price.has_different_promotional_prices  \\\n",
       "0                                   False   \n",
       "1                                    True   \n",
       "2                                   False   \n",
       "3                                   False   \n",
       "4                                   False   \n",
       "\n",
       "   price.has_discount_on_selected_sizes_only  \n",
       "0                                      False  \n",
       "1                                      False  \n",
       "2                                      False  \n",
       "3                                      False  \n",
       "4                                      False  "
      ]
     },
     "execution_count": 7,
     "metadata": {},
     "output_type": "execute_result"
    }
   ],
   "source": [
    "flattened_data1 = pd.json_normalize(flattened_data.articles[0])\n",
    "flattened_data1.head()"
   ]
  },
  {
   "cell_type": "markdown",
   "metadata": {},
   "source": [
    "#### Collect all the objects from selected filters. Total number of pages can be found in the same json. Use *sku* column as index.\n",
    "\n",
    "Your output should be a Pandas DataFrame of goods. Each row should contain only text or numbers, having family_articles, flags, media and sizes remaining lists (they are exceptions)."
   ]
  },
  {
   "cell_type": "code",
   "execution_count": 8,
   "metadata": {},
   "outputs": [
    {
     "data": {
      "text/plain": [
       "307"
      ]
     },
     "execution_count": 8,
     "metadata": {},
     "output_type": "execute_result"
    }
   ],
   "source": [
    "# Get the total number of pages\n",
    "total_pages=results['pagination']['page_count']\n",
    "total_pages"
   ]
  },
  {
   "cell_type": "code",
   "execution_count": 9,
   "metadata": {},
   "outputs": [
    {
     "name": "stdout",
     "output_type": "stream",
     "text": [
      "<class 'pandas.core.frame.DataFrame'>\n",
      "Index: 25740 entries, QU153G00F-K11 to HE643I005-I11\n",
      "Data columns (total 20 columns):\n",
      " #   Column                                        Non-Null Count  Dtype \n",
      "---  ------                                        --------------  ----- \n",
      " 0   name                                          25740 non-null  object\n",
      " 1   sizes                                         25740 non-null  object\n",
      " 2   url_key                                       25740 non-null  object\n",
      " 3   media                                         25740 non-null  object\n",
      " 4   brand_name                                    25740 non-null  object\n",
      " 5   is_premium                                    25740 non-null  bool  \n",
      " 6   family_articles                               25740 non-null  object\n",
      " 7   flags                                         25740 non-null  object\n",
      " 8   product_group                                 25740 non-null  object\n",
      " 9   delivery_promises                             25740 non-null  object\n",
      " 10  price.original                                25740 non-null  object\n",
      " 11  price.promotional                             25740 non-null  object\n",
      " 12  price.has_different_prices                    25740 non-null  bool  \n",
      " 13  price.has_different_original_prices           25740 non-null  bool  \n",
      " 14  price.has_different_promotional_prices        25740 non-null  bool  \n",
      " 15  price.has_discount_on_selected_sizes_only     25740 non-null  bool  \n",
      " 16  tracking_information.metrigo_impression_urls  9 non-null      object\n",
      " 17  tracking_information.impression_beacon        9 non-null      object\n",
      " 18  tracking_information.source                   9 non-null      object\n",
      " 19  amount                                        170 non-null    object\n",
      "dtypes: bool(5), object(15)\n",
      "memory usage: 3.3+ MB\n"
     ]
    }
   ],
   "source": [
    "# Your code\n",
    "df=pd.DataFrame()\n",
    "for i in range(total_pages):\n",
    "    k=84*i\n",
    "    url=f'https://www.zalando.fr/api/catalog/articles?categories=promo-enfant&limit=84&offset={k}&sort=sale'\n",
    "    response = requests.get(url, headers=headers)\n",
    "    results = response.json()\n",
    "    flattened_data  = pd.json_normalize(results)\n",
    "    flattened_data1 = pd.json_normalize(flattened_data.articles[0])\n",
    "    flattened_data1 = flattened_data1.set_index('sku')\n",
    "    df = df.append(flattened_data1)\n",
    "\n",
    "df.info()"
   ]
  },
  {
   "cell_type": "markdown",
   "metadata": {},
   "source": [
    "#### Display the trending brand in DataFrame"
   ]
  },
  {
   "cell_type": "code",
   "execution_count": 10,
   "metadata": {},
   "outputs": [
    {
     "data": {
      "text/plain": [
       "'Name it'"
      ]
     },
     "execution_count": 10,
     "metadata": {},
     "output_type": "execute_result"
    }
   ],
   "source": [
    "df.brand_name.value_counts().index[0]"
   ]
  },
  {
   "cell_type": "markdown",
   "metadata": {},
   "source": [
    "#### Display the brand with maximal total discount (sum of discounts on all goods)"
   ]
  },
  {
   "cell_type": "code",
   "execution_count": 11,
   "metadata": {},
   "outputs": [],
   "source": [
    "#Our data is still text. Convert prices into numbers:\n",
    "df['price.original'] = df['price.original'].str.extract('(\\d*,\\d*)')\n",
    "df['price.promotional'] = df['price.promotional'].str.extract('(\\d*,\\d*)')"
   ]
  },
  {
   "cell_type": "code",
   "execution_count": 12,
   "metadata": {},
   "outputs": [],
   "source": [
    "df['price.original'] = df['price.original'].str.replace(',','.').astype(float)\n",
    "df['price.promotional'] = df['price.promotional'].str.replace(',','.').astype(float)"
   ]
  },
  {
   "cell_type": "code",
   "execution_count": 13,
   "metadata": {},
   "outputs": [],
   "source": [
    "df['discount_amount'] = df['price.original'] - df['price.promotional']"
   ]
  },
  {
   "cell_type": "code",
   "execution_count": 14,
   "metadata": {},
   "outputs": [],
   "source": [
    "total_disc = df.groupby(['brand_name']).sum().discount_amount"
   ]
  },
  {
   "cell_type": "code",
   "execution_count": 15,
   "metadata": {},
   "outputs": [
    {
     "data": {
      "text/plain": [
       "'Scotch & Soda'"
      ]
     },
     "execution_count": 15,
     "metadata": {},
     "output_type": "execute_result"
    }
   ],
   "source": [
    "total_disc.sort_values(ascending=False).index[0]"
   ]
  },
  {
   "cell_type": "markdown",
   "metadata": {},
   "source": [
    "#### Display the brands without discount at all"
   ]
  },
  {
   "cell_type": "code",
   "execution_count": 16,
   "metadata": {},
   "outputs": [
    {
     "data": {
      "text/plain": [
       "brand_name\n",
       "ASICS SportStyle        0.0\n",
       "Angel & Rocket          0.0\n",
       "Be Only                 0.0\n",
       "Belstaff                0.0\n",
       "Bikkembergs Kids        0.0\n",
       "Bogs                    0.0\n",
       "Bomboogie               0.0\n",
       "Craft                   0.0\n",
       "Fabrizio                0.0\n",
       "Finger in the nose      0.0\n",
       "Fjällräven              0.0\n",
       "Hatley                  0.0\n",
       "Herschel                0.0\n",
       "Hip                     0.0\n",
       "K-SWISS                 0.0\n",
       "La Queue du Chat        0.0\n",
       "MAÁ                     0.0\n",
       "MP Denmark              0.0\n",
       "Mini Molly              0.0\n",
       "Modern Native           0.0\n",
       "NOP                     0.0\n",
       "Nike Golf               0.0\n",
       "Noa Noa                 0.0\n",
       "Nordic coast company    0.0\n",
       "ODLO                    0.0\n",
       "Outerstuff              0.0\n",
       "Outfit Kids             0.0\n",
       "Patagonia               0.0\n",
       "People Wear Organic     0.0\n",
       "Pinocchio               0.0\n",
       "Play Up                 0.0\n",
       "Scotch R'Belle          0.0\n",
       "Sisley                  0.0\n",
       "Sonia Rykiel            0.0\n",
       "THE WHITE BRAND         0.0\n",
       "TOMS                    0.0\n",
       "Ten Cate                0.0\n",
       "UGG                     0.0\n",
       "Uhlsport                0.0\n",
       "Umbro                   0.0\n",
       "Unauthorized            0.0\n",
       "Vilebrequin             0.0\n",
       "XTI                     0.0\n",
       "Zoe Leggings            0.0\n",
       "bellybutton             0.0\n",
       "fullstop.               0.0\n",
       "mtng                    0.0\n",
       "Name: discount_amount, dtype: float64"
      ]
     },
     "execution_count": 16,
     "metadata": {},
     "output_type": "execute_result"
    }
   ],
   "source": [
    "total_disc[total_disc==0]"
   ]
  },
  {
   "cell_type": "code",
   "execution_count": null,
   "metadata": {},
   "outputs": [],
   "source": []
  }
 ],
 "metadata": {
  "kernelspec": {
   "display_name": "Python 3",
   "language": "python",
   "name": "python3"
  },
  "language_info": {
   "codemirror_mode": {
    "name": "ipython",
    "version": 3
   },
   "file_extension": ".py",
   "mimetype": "text/x-python",
   "name": "python",
   "nbconvert_exporter": "python",
   "pygments_lexer": "ipython3",
   "version": "3.7.6"
  }
 },
 "nbformat": 4,
 "nbformat_minor": 2
}
